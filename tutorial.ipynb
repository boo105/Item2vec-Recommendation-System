{
 "cells": [
  {
   "cell_type": "markdown",
   "metadata": {},
   "source": [
    "# Item2Vec\n",
    "Item2Vec: Neural Item Embedding for Collaborative Filtering\n",
    "***"
   ]
  },
  {
   "cell_type": "markdown",
   "metadata": {},
   "source": [
    "## References\n",
    "- Paper: https://arxiv.org/vc/arxiv/papers/1603/1603.04259v2.pdf\n",
    "- Dataset: https://grouplens.org/datasets/movielens/\n",
    "- Source Code:\n",
    "https://github.com/bwange/Item2vec_Tutorial_with_Recommender_System_Application/blob/master/Making_Your_Own_Recommender_System_with_Item2Vec.ipynb\n",
    "\n",
    "***"
   ]
  },
  {
   "cell_type": "markdown",
   "metadata": {},
   "source": [
    "##  Preparing the Data\n",
    "- MovieLens 데이터셋을 사용하여 데이터를 읽습니다.\n"
   ]
  },
  {
   "cell_type": "code",
   "execution_count": 4,
   "metadata": {},
   "outputs": [
    {
     "data": {
      "text/html": [
       "<div>\n",
       "<style scoped>\n",
       "    .dataframe tbody tr th:only-of-type {\n",
       "        vertical-align: middle;\n",
       "    }\n",
       "\n",
       "    .dataframe tbody tr th {\n",
       "        vertical-align: top;\n",
       "    }\n",
       "\n",
       "    .dataframe thead th {\n",
       "        text-align: right;\n",
       "    }\n",
       "</style>\n",
       "<table border=\"1\" class=\"dataframe\">\n",
       "  <thead>\n",
       "    <tr style=\"text-align: right;\">\n",
       "      <th></th>\n",
       "      <th>movieId</th>\n",
       "      <th>title</th>\n",
       "      <th>genres</th>\n",
       "    </tr>\n",
       "  </thead>\n",
       "  <tbody>\n",
       "    <tr>\n",
       "      <th>54360</th>\n",
       "      <td>189391</td>\n",
       "      <td>El profesor hippie (1969)</td>\n",
       "      <td>Comedy</td>\n",
       "    </tr>\n",
       "    <tr>\n",
       "      <th>23625</th>\n",
       "      <td>118770</td>\n",
       "      <td>Wild Heritage (1958)</td>\n",
       "      <td>Western</td>\n",
       "    </tr>\n",
       "    <tr>\n",
       "      <th>5151</th>\n",
       "      <td>5259</td>\n",
       "      <td>Homicidal (1961)</td>\n",
       "      <td>Horror|Mystery|Thriller</td>\n",
       "    </tr>\n",
       "    <tr>\n",
       "      <th>55876</th>\n",
       "      <td>192929</td>\n",
       "      <td>A Touch of Spring (2017)</td>\n",
       "      <td>Drama</td>\n",
       "    </tr>\n",
       "    <tr>\n",
       "      <th>49585</th>\n",
       "      <td>179189</td>\n",
       "      <td>Dragon Bruce Lee, Part II (1981)</td>\n",
       "      <td>(no genres listed)</td>\n",
       "    </tr>\n",
       "  </tbody>\n",
       "</table>\n",
       "</div>"
      ],
      "text/plain": [
       "       movieId                             title                   genres\n",
       "54360   189391         El profesor hippie (1969)                   Comedy\n",
       "23625   118770              Wild Heritage (1958)                  Western\n",
       "5151      5259                  Homicidal (1961)  Horror|Mystery|Thriller\n",
       "55876   192929          A Touch of Spring (2017)                    Drama\n",
       "49585   179189  Dragon Bruce Lee, Part II (1981)       (no genres listed)"
      ]
     },
     "metadata": {},
     "output_type": "display_data"
    },
    {
     "name": "stdout",
     "output_type": "stream",
     "text": [
      "Randomly displaying 5 of the total 62423 data points\n"
     ]
    },
    {
     "data": {
      "text/html": [
       "<div>\n",
       "<style scoped>\n",
       "    .dataframe tbody tr th:only-of-type {\n",
       "        vertical-align: middle;\n",
       "    }\n",
       "\n",
       "    .dataframe tbody tr th {\n",
       "        vertical-align: top;\n",
       "    }\n",
       "\n",
       "    .dataframe thead th {\n",
       "        text-align: right;\n",
       "    }\n",
       "</style>\n",
       "<table border=\"1\" class=\"dataframe\">\n",
       "  <thead>\n",
       "    <tr style=\"text-align: right;\">\n",
       "      <th></th>\n",
       "      <th>userId</th>\n",
       "      <th>movieId</th>\n",
       "      <th>rating</th>\n",
       "      <th>timestamp</th>\n",
       "    </tr>\n",
       "  </thead>\n",
       "  <tbody>\n",
       "    <tr>\n",
       "      <th>16514128</th>\n",
       "      <td>107139</td>\n",
       "      <td>788</td>\n",
       "      <td>3.0</td>\n",
       "      <td>855407991</td>\n",
       "    </tr>\n",
       "    <tr>\n",
       "      <th>11998220</th>\n",
       "      <td>77837</td>\n",
       "      <td>1230</td>\n",
       "      <td>4.0</td>\n",
       "      <td>968346891</td>\n",
       "    </tr>\n",
       "    <tr>\n",
       "      <th>3507408</th>\n",
       "      <td>23134</td>\n",
       "      <td>105585</td>\n",
       "      <td>0.5</td>\n",
       "      <td>1430104124</td>\n",
       "    </tr>\n",
       "    <tr>\n",
       "      <th>14940463</th>\n",
       "      <td>96801</td>\n",
       "      <td>60684</td>\n",
       "      <td>4.0</td>\n",
       "      <td>1512851637</td>\n",
       "    </tr>\n",
       "    <tr>\n",
       "      <th>16680413</th>\n",
       "      <td>108154</td>\n",
       "      <td>4464</td>\n",
       "      <td>4.0</td>\n",
       "      <td>1189679686</td>\n",
       "    </tr>\n",
       "  </tbody>\n",
       "</table>\n",
       "</div>"
      ],
      "text/plain": [
       "          userId  movieId  rating   timestamp\n",
       "16514128  107139      788     3.0   855407991\n",
       "11998220   77837     1230     4.0   968346891\n",
       "3507408    23134   105585     0.5  1430104124\n",
       "14940463   96801    60684     4.0  1512851637\n",
       "16680413  108154     4464     4.0  1189679686"
      ]
     },
     "metadata": {},
     "output_type": "display_data"
    },
    {
     "name": "stdout",
     "output_type": "stream",
     "text": [
      "Randomly displaying 5 of the total 25000095 data points\n"
     ]
    }
   ],
   "source": [
    "import pandas as pd\n",
    "import numpy as np\n",
    "\n",
    "# 데이터 읽기\n",
    "df_movies = pd.read_csv('./dataset/ml-25m/movies.csv') # 영화 데이터\n",
    "df_ratings = pd.read_csv('./dataset/ml-25m/ratings.csv') # user의 rating 데이터\n",
    "\n",
    "# 인코딩\n",
    "movieId_to_name = pd.Series(df_movies.title.values, index = df_movies.movieId.values)\n",
    "name_to_movieId = pd.Series(df_movies.movieId.values, index = df_movies.title).to_dict()\n",
    "\n",
    "# Randomly display 5 records in the dataframe\n",
    "for df in list((df_movies, df_ratings)):\n",
    "    rand_idx = np.random.choice(len(df), 5, replace=False)\n",
    "    display(df.iloc[rand_idx,:])\n",
    "    print(\"Randomly displaying 5 of the total \"+str(len(df))+\" data points\")"
   ]
  },
  {
   "cell_type": "markdown",
   "metadata": {},
   "source": [
    "## Rating Histogram\n",
    "- User가 rating한 영화의 개수를 히스토그램으로 시각화합니다."
   ]
  },
  {
   "cell_type": "code",
   "execution_count": 12,
   "metadata": {},
   "outputs": [
    {
     "data": {
      "image/png": "[encoded data removed]",
      "text/plain": [
       "<Figure size 576x432 with 1 Axes>"
      ]
     },
     "metadata": {
      "needs_background": "light"
     },
     "output_type": "display_data"
    }
   ],
   "source": [
    "import matplotlib.pyplot as plt\n",
    "# import chart_studio.plotly as py\n",
    "# %matplotlib inline\n",
    "\n",
    "plt.figure(figsize=(8, 6))\n",
    "ax = plt.subplot(111)\n",
    "ax.set_title(\"Distribution of Movie Ratings\", fontsize=16)\n",
    "ax.spines[\"top\"].set_visible(False)  \n",
    "ax.spines[\"right\"].set_visible(False)  \n",
    "  \n",
    "plt.xticks(fontsize=12)  \n",
    "plt.yticks(fontsize=12)  \n",
    "  \n",
    "plt.xlabel(\"Movie Rating\", fontsize=14)  \n",
    "plt.ylabel(\"Count\", fontsize=14)  \n",
    "  \n",
    "plt.hist(df_ratings['rating'], color=\"#3F5D7D\")  \n",
    "\n",
    "plt.show()"
   ]
  },
  {
   "cell_type": "markdown",
   "metadata": {},
   "source": [
    "##  train set, test set 만들기\n",
    "- ratings 데이터의 학습데이터와 테스트데이터를 분리합니다."
   ]
  },
  {
   "cell_type": "code",
   "execution_count": 13,
   "metadata": {},
   "outputs": [
    {
     "name": "stdout",
     "output_type": "stream",
     "text": [
      "Number of training data: 17500066\n",
      "Number of test data: 7500029\n"
     ]
    }
   ],
   "source": [
    "from sklearn.model_selection import train_test_split\n",
    "\n",
    "df_ratings_train, df_ratings_test= train_test_split(df_ratings,\n",
    "                                                    stratify=df_ratings['userId'],\n",
    "                                                    random_state = 15688,\n",
    "                                                    test_size=0.30)\n",
    "\n",
    "\n",
    "print(\"Number of training data: \"+str(len(df_ratings_train)))\n",
    "print(\"Number of test data: \"+str(len(df_ratings_test)))"
   ]
  },
  {
   "cell_type": "markdown",
   "metadata": {},
   "source": [
    "user의 평가 데이터를 기준으로 데이터를 구분하여 영화정보를 추출합니다."
   ]
  },
  {
   "cell_type": "code",
   "execution_count": 14,
   "metadata": {},
   "outputs": [],
   "source": [
    "def rating_splitter(df):\n",
    "    \n",
    "    df['liked'] = np.where(df['rating']>=4, 1, 0) # df['rating']이 4이상이면 1 아니면 0\n",
    "    df['movieId'] = df['movieId'].astype('str')\n",
    "    gp_user_like = df.groupby(['liked', 'userId']) # liked와 user_id로 그룹화\n",
    "    return ([gp_user_like.get_group(gp)['movieId'].tolist() for gp in gp_user_like.groups]) "
   ]
  },
  {
   "cell_type": "markdown",
   "metadata": {},
   "source": [
    "즉, user 정보는 무시하고 movieId만 반환합니다."
   ]
  },
  {
   "cell_type": "code",
   "execution_count": 15,
   "metadata": {},
   "outputs": [],
   "source": [
    "pd.options.mode.chained_assignment = None\n",
    "splitted_movies = rating_splitter(df_ratings_train)"
   ]
  },
  {
   "cell_type": "markdown",
   "metadata": {},
   "source": [
    "***\n",
    "## 모델 생성 및 학습"
   ]
  },
  {
   "cell_type": "code",
   "execution_count": null,
   "metadata": {},
   "outputs": [],
   "source": [
    "!conda install gensim"
   ]
  },
  {
   "cell_type": "code",
   "execution_count": 1,
   "metadata": {},
   "outputs": [
    {
     "ename": "ModuleNotFoundError",
     "evalue": "No module named 'gensim'",
     "output_type": "error",
     "traceback": [
      "\u001b[1;31m---------------------------------------------------------------------------\u001b[0m",
      "\u001b[1;31mModuleNotFoundError\u001b[0m                       Traceback (most recent call last)",
      "\u001b[1;32m<ipython-input-1-e67626adb59b>\u001b[0m in \u001b[0;36m<module>\u001b[1;34m\u001b[0m\n\u001b[0;32m      2\u001b[0m \u001b[0mwarnings\u001b[0m\u001b[1;33m.\u001b[0m\u001b[0mfilterwarnings\u001b[0m\u001b[1;33m(\u001b[0m\u001b[0maction\u001b[0m\u001b[1;33m=\u001b[0m\u001b[1;34m'ignore'\u001b[0m\u001b[1;33m,\u001b[0m \u001b[0mcategory\u001b[0m\u001b[1;33m=\u001b[0m\u001b[0mUserWarning\u001b[0m\u001b[1;33m,\u001b[0m \u001b[0mmodule\u001b[0m\u001b[1;33m=\u001b[0m\u001b[1;34m'gensim'\u001b[0m\u001b[1;33m)\u001b[0m\u001b[1;33m\u001b[0m\u001b[1;33m\u001b[0m\u001b[0m\n\u001b[0;32m      3\u001b[0m \u001b[1;33m\u001b[0m\u001b[0m\n\u001b[1;32m----> 4\u001b[1;33m \u001b[1;32mimport\u001b[0m \u001b[0mgensim\u001b[0m\u001b[1;33m\u001b[0m\u001b[1;33m\u001b[0m\u001b[0m\n\u001b[0m\u001b[0;32m      5\u001b[0m \u001b[1;32massert\u001b[0m \u001b[0mgensim\u001b[0m\u001b[1;33m.\u001b[0m\u001b[0mmodels\u001b[0m\u001b[1;33m.\u001b[0m\u001b[0mword2vec\u001b[0m\u001b[1;33m.\u001b[0m\u001b[0mFAST_VERSION\u001b[0m \u001b[1;33m>\u001b[0m \u001b[1;33m-\u001b[0m\u001b[1;36m1\u001b[0m\u001b[1;33m\u001b[0m\u001b[1;33m\u001b[0m\u001b[0m\n",
      "\u001b[1;31mModuleNotFoundError\u001b[0m: No module named 'gensim'"
     ]
    }
   ],
   "source": [
    "import warnings\n",
    "warnings.filterwarnings(action='ignore', category=UserWarning, module='gensim')\n",
    "\n",
    "import gensim\n",
    "assert gensim.models.word2vec.FAST_VERSION > -1"
   ]
  },
  {
   "cell_type": "code",
   "execution_count": 20,
   "metadata": {},
   "outputs": [
    {
     "data": {
      "text/plain": [
       "323284"
      ]
     },
     "execution_count": 20,
     "metadata": {},
     "output_type": "execute_result"
    }
   ],
   "source": [
    "len(splitted_movies)"
   ]
  },
  {
   "cell_type": "code",
   "execution_count": 21,
   "metadata": {},
   "outputs": [],
   "source": [
    "new_splitted_movies = splitted_movies[:1000]"
   ]
  },
  {
   "cell_type": "markdown",
   "metadata": {},
   "source": [
    "Shuufle train data\n",
    "- 영화의 순서는 의미있는 정보가 아니므로 학습데이터를 셔플링합니다."
   ]
  },
  {
   "cell_type": "code",
   "execution_count": 22,
   "metadata": {},
   "outputs": [],
   "source": [
    "import random\n",
    "\n",
    "for movie_list in new_splitted_movies:\n",
    "    random.shuffle(movie_list)"
   ]
  },
  {
   "cell_type": "markdown",
   "metadata": {},
   "source": [
    "모델을 생성합니다.\n",
    "- Skip-gram을 사용한 Word2Vec 모델을 생성합니다.\n",
    "- 각 파라미터를 다르게 설정하여 2가지 모델을 만들었습니다."
   ]
  },
  {
   "cell_type": "code",
   "execution_count": 25,
   "metadata": {},
   "outputs": [
    {
     "ename": "ModuleNotFoundError",
     "evalue": "No module named 'gensim'",
     "output_type": "error",
     "traceback": [
      "\u001b[1;31m---------------------------------------------------------------------------\u001b[0m",
      "\u001b[1;31mModuleNotFoundError\u001b[0m                       Traceback (most recent call last)",
      "\u001b[1;32m<ipython-input-25-265b0d2d7382>\u001b[0m in \u001b[0;36m<module>\u001b[1;34m\u001b[0m\n\u001b[1;32m----> 1\u001b[1;33m \u001b[1;32mfrom\u001b[0m \u001b[0mgensim\u001b[0m\u001b[1;33m.\u001b[0m\u001b[0mmodels\u001b[0m \u001b[1;32mimport\u001b[0m \u001b[0mWord2Vec\u001b[0m\u001b[1;33m\u001b[0m\u001b[1;33m\u001b[0m\u001b[0m\n\u001b[0m\u001b[0;32m      2\u001b[0m \u001b[1;32mimport\u001b[0m \u001b[0mdatetime\u001b[0m\u001b[1;33m\u001b[0m\u001b[1;33m\u001b[0m\u001b[0m\n\u001b[0;32m      3\u001b[0m \u001b[0mstart\u001b[0m \u001b[1;33m=\u001b[0m \u001b[0mdatetime\u001b[0m\u001b[1;33m.\u001b[0m\u001b[0mdatetime\u001b[0m\u001b[1;33m.\u001b[0m\u001b[0mnow\u001b[0m\u001b[1;33m(\u001b[0m\u001b[1;33m)\u001b[0m\u001b[1;33m\u001b[0m\u001b[1;33m\u001b[0m\u001b[0m\n\u001b[0;32m      4\u001b[0m \u001b[1;33m\u001b[0m\u001b[0m\n\u001b[0;32m      5\u001b[0m model = Word2Vec(sentences = new_splitted_movies, # We will supply the pre-processed list of moive lists to this parameter\n",
      "\u001b[1;31mModuleNotFoundError\u001b[0m: No module named 'gensim'"
     ]
    }
   ],
   "source": [
    "from gensim.models import Word2Vec\n",
    "import datetime\n",
    "start = datetime.datetime.now()\n",
    "\n",
    "model = Word2Vec(sentences = new_splitted_movies, # We will supply the pre-processed list of moive lists to this parameter\n",
    "                 iter = 5, # epoch\n",
    "                 min_count = 10, # a movie has to appear more than 10 times to be keeped\n",
    "                 size = 200, # size of the hidden layer\n",
    "                 workers = 4, # specify the number of threads to be used for training\n",
    "                 sg = 1, # Defines the training algorithm. We will use skip-gram so 1 is chosen.\n",
    "                 hs = 0, # Set to 0, as we are applying negative sampling.\n",
    "                 negative = 5, # If > 0, negative sampling will be used. We will use a value of 5.\n",
    "                 window = 9999999)\n",
    "\n",
    "print(\"Time passed: \" + str(datetime.datetime.now()-start))\n",
    "model.save('item2vec_20200908')\n",
    "del model"
   ]
  },
  {
   "cell_type": "code",
   "execution_count": null,
   "metadata": {},
   "outputs": [],
   "source": [
    "from gensim.models import Word2Vec\n",
    "import datetime\n",
    "start = datetime.datetime.now()\n",
    "\n",
    "model_w2v_sg = Word2Vec(sentences = splitted_movies,\n",
    "                        iter = 10, # epoch\n",
    "                        min_count = 5, # a movie has to appear more than 5 times to be keeped\n",
    "                        size = 300, # size of the hidden layer\n",
    "                        workers = 4, # specify the number of threads to be used for training\n",
    "                        sg = 1,\n",
    "                        hs = 0,\n",
    "                        negative = 5,\n",
    "                        window = 9999999)\n",
    "\n",
    "print(\"Time passed: \" + str(datetime.datetime.now()-start))\n",
    "model_w2v_sg.save('item2vec_word2vecSg_20200908')\n",
    "del model_w2v_sg"
   ]
  },
  {
   "cell_type": "markdown",
   "metadata": {},
   "source": [
    "생성한 모델을 load합니다."
   ]
  },
  {
   "cell_type": "code",
   "execution_count": 30,
   "metadata": {},
   "outputs": [],
   "source": [
    "import warnings\n",
    "warnings.filterwarnings(action='ignore', category=UserWarning, module='gensim')\n",
    "\n",
    "from gensim.models import Word2Vec\n",
    "model = Word2Vec.load('item2vec_20200908')\n",
    "word_vectors = model.wv\n",
    "# del model # uncomment this line will delete the model"
   ]
  },
  {
   "cell_type": "markdown",
   "metadata": {},
   "source": [
    "***\n",
    "\n",
    "## Let's Make Some Recommendations!"
   ]
  },
  {
   "cell_type": "code",
   "execution_count": 116,
   "metadata": {},
   "outputs": [],
   "source": [
    "import requests\n",
    "import re\n",
    "from bs4 import BeautifulSoup\n",
    "\n",
    "def refine_search(search_term):\n",
    "    \"\"\"\n",
    "    Refine the movie name to be recognized by the recommender\n",
    "    Args:\n",
    "        search_term (string): Search Term\n",
    "\n",
    "    Returns:\n",
    "        refined_term (string): a name that can be search in the dataset\n",
    "    \"\"\"\n",
    "    target_url = \"http://www.imdb.com/find?ref_=nv_sr_fn&q=\"+\"+\".join(search_term.split())+\"&s=tt\"\n",
    "    \n",
    "    # 크롤링\n",
    "    html = requests.get(target_url).content\n",
    "    parsed_html = BeautifulSoup(html, 'html.parser')\n",
    "    for tag in parsed_html.find_all('td', class_=\"result_text\"):\n",
    "        print(tag)\n",
    "        title = tag.find('a').get_text()\n",
    "        year = re.findall('</a>(.*)</td>', str(tag))\n",
    "\n",
    "        return title + ' ' + year[0].strip()\n",
    "        print(search_result)\n",
    "        refined_name = \"\"\n",
    "        if search_result:\n",
    "            if search_result[0][0].split()[0]==\"The\":\n",
    "                str_frac = \" \".join(title.split()[1:])+\", \"+title.split()[0]\n",
    "                refined_name = title + ' ' + year[0].strip()\n",
    "            else:\n",
    "                refined_name = title + ' ' + year[0].strip()\n",
    "        return refined_name\n",
    "\n",
    "def produce_list_of_movieId(list_of_movieName, useRefineSearch=False):\n",
    "    \"\"\"\n",
    "    Turn a list of movie name into a list of movie ids. The movie names has to be exactly the same as they are in the dataset.\n",
    "    Ambiguous movie names can be supplied if useRefineSearch is set to True\n",
    "    \n",
    "    Args:\n",
    "        list_of_movieName (List): A list of movie names.\n",
    "        useRefineSearch (boolean): Ambiguous movie names can be supplied if useRefineSearch is set to True\n",
    "\n",
    "    Returns:\n",
    "        list_of_movie_id (List of strings): A list of movie ids.\n",
    "    \"\"\"\n",
    "    list_of_movie_id = []\n",
    "    for movieName in list_of_movieName:\n",
    "        if useRefineSearch:\n",
    "            movieName = refine_search(movieName)\n",
    "            print(movieName)\n",
    "            print(\"Refined Name: \"+movieName)\n",
    "        if movieName in name_to_movieId.keys():\n",
    "            list_of_movie_id.append(str(name_to_movieId[movieName]))\n",
    "    return list_of_movie_id\n",
    "\n",
    "def recommender(positive_list=None, negative_list=None, useRefineSearch=False, topn=20):\n",
    "    recommend_movie_ls = []\n",
    "    if positive_list:\n",
    "        positive_list = produce_list_of_movieId(positive_list, useRefineSearch)\n",
    "    if negative_list:\n",
    "        negative_list = produce_list_of_movieId(negative_list, useRefineSearch)\n",
    "    for movieId, prob in model.wv.most_similar_cosmul(positive=positive_list, negative=negative_list, topn=topn):\n",
    "        recommend_movie_ls.append(movieId)\n",
    "    return recommend_movie_ls"
   ]
  },
  {
   "cell_type": "markdown",
   "metadata": {},
   "source": [
    "recommender\n",
    "- user로부터 'UP'이 검색되면 해당 검색어를 크롤링을 통해 dataset의 title값을 받아옵니다.\n",
    "- 이후 해당 movie title 리스트를 앞에서 인코딩한 name_to_movieId 사전을 통해 movieId로 바꿔줍니다.\n",
    "- 그리고 앞에서 정의한 모델을 통해 top-n 개의 similar한 데이터를 반환합니다."
   ]
  },
  {
   "cell_type": "code",
   "execution_count": 109,
   "metadata": {},
   "outputs": [
    {
     "name": "stdout",
     "output_type": "stream",
     "text": [
      "<td class=\"result_text\"> <a href=\"/title/tt1049413/\">Up</a> (2009) </td>\n",
      "Up (2009)\n",
      "Refined Name: Up (2009)\n",
      "Recommendation Result based on \"Up (2009)\":\n"
     ]
    },
    {
     "data": {
      "text/html": [
       "<div>\n",
       "<style scoped>\n",
       "    .dataframe tbody tr th:only-of-type {\n",
       "        vertical-align: middle;\n",
       "    }\n",
       "\n",
       "    .dataframe tbody tr th {\n",
       "        vertical-align: top;\n",
       "    }\n",
       "\n",
       "    .dataframe thead th {\n",
       "        text-align: right;\n",
       "    }\n",
       "</style>\n",
       "<table border=\"1\" class=\"dataframe\">\n",
       "  <thead>\n",
       "    <tr style=\"text-align: right;\">\n",
       "      <th></th>\n",
       "      <th>movieId</th>\n",
       "      <th>title</th>\n",
       "      <th>genres</th>\n",
       "    </tr>\n",
       "  </thead>\n",
       "  <tbody>\n",
       "    <tr>\n",
       "      <th>4794</th>\n",
       "      <td>4890</td>\n",
       "      <td>Shallow Hal (2001)</td>\n",
       "      <td>Comedy|Fantasy|Romance</td>\n",
       "    </tr>\n",
       "    <tr>\n",
       "      <th>5574</th>\n",
       "      <td>5673</td>\n",
       "      <td>Punch-Drunk Love (2002)</td>\n",
       "      <td>Comedy|Drama|Romance</td>\n",
       "    </tr>\n",
       "    <tr>\n",
       "      <th>7318</th>\n",
       "      <td>7444</td>\n",
       "      <td>13 Going on 30 (2004)</td>\n",
       "      <td>Comedy|Fantasy|Romance</td>\n",
       "    </tr>\n",
       "    <tr>\n",
       "      <th>11352</th>\n",
       "      <td>48385</td>\n",
       "      <td>Borat: Cultural Learnings of America for Make ...</td>\n",
       "      <td>Comedy</td>\n",
       "    </tr>\n",
       "    <tr>\n",
       "      <th>12089</th>\n",
       "      <td>54997</td>\n",
       "      <td>3:10 to Yuma (2007)</td>\n",
       "      <td>Action|Crime|Drama|Western</td>\n",
       "    </tr>\n",
       "  </tbody>\n",
       "</table>\n",
       "</div>"
      ],
      "text/plain": [
       "       movieId                                              title  \\\n",
       "4794      4890                                 Shallow Hal (2001)   \n",
       "5574      5673                            Punch-Drunk Love (2002)   \n",
       "7318      7444                              13 Going on 30 (2004)   \n",
       "11352    48385  Borat: Cultural Learnings of America for Make ...   \n",
       "12089    54997                                3:10 to Yuma (2007)   \n",
       "\n",
       "                           genres  \n",
       "4794       Comedy|Fantasy|Romance  \n",
       "5574         Comedy|Drama|Romance  \n",
       "7318       Comedy|Fantasy|Romance  \n",
       "11352                      Comedy  \n",
       "12089  Action|Crime|Drama|Western  "
      ]
     },
     "metadata": {},
     "output_type": "display_data"
    }
   ],
   "source": [
    "ls = recommender(positive_list=[\"UP\"], useRefineSearch=True, topn=5)\n",
    "print('Recommendation Result based on \"Up (2009)\":')\n",
    "display(df_movies[df_movies['movieId'].isin(ls)])"
   ]
  },
  {
   "cell_type": "markdown",
   "metadata": {},
   "source": [
    "***\n",
    "## Evaluating the Model Performance\n",
    "- 모델의 성능을 평가합니다."
   ]
  },
  {
   "cell_type": "code",
   "execution_count": 112,
   "metadata": {},
   "outputs": [],
   "source": [
    "\n",
    "def user_liked_movies_builder(model, df, for_prediction=False):\n",
    "    df['liked'] = np.where(df['rating']>=4, 1, 0)\n",
    "    df['movieId'] = df['movieId'].astype('str')\n",
    "    df_liked = df[df['liked']==1]\n",
    "    if for_prediction:\n",
    "        df_liked = df[df['movieId'].isin(model.wv.vocab.keys())]\n",
    "        \n",
    "    user_liked_movies = df_liked.groupby('userId').agg({'movieId': lambda x: x.tolist()})['movieId'].to_dict()\n",
    "    \n",
    "    return user_liked_movies\n",
    "\n",
    "def scores_at_m (model, user_liked_movies_test, user_liked_movies_training, topn=10):\n",
    "    sum_liked = 0\n",
    "    sum_correct = 0\n",
    "    sum_total = 0\n",
    "    common_users = set(user_liked_movies_test.keys()).intersection(set(user_liked_movies_training.keys()))\n",
    "\n",
    "    for userid in common_users:\n",
    "        current_test_set = set(user_liked_movies_test[userid])\n",
    "        pred = [pred_result[0] for pred_result in model.wv.most_similar_cosmul(positive = user_liked_movies_training[userid], topn=topn)]\n",
    "        sum_correct += len(set(pred).intersection(current_test_set))\n",
    "        sum_liked += len(current_test_set)\n",
    "    precision_at_m = sum_correct/(topn*len(common_users))\n",
    "    recall_at_m = sum_correct/sum_liked\n",
    "    f1 = 2/((1/precision_at_m)+(1/recall_at_m))\n",
    "    return [precision_at_m, recall_at_m, f1]"
   ]
  },
  {
   "cell_type": "code",
   "execution_count": 114,
   "metadata": {},
   "outputs": [],
   "source": [
    "pd.options.mode.chained_assignment = None\n",
    "user_liked_movies_train = user_liked_movies_builder(model, df_ratings_train, for_prediction=True)\n",
    "user_liked_movies_test = user_liked_movies_builder(model, df_ratings_test)\n",
    "\n",
    "model = Word2Vec.load('item2vec_20200908')\n",
    "model_score_sg1 = scores_at_m(model, user_liked_movies_test, user_liked_movies_train)\n",
    "del model"
   ]
  },
  {
   "cell_type": "code",
   "execution_count": 115,
   "metadata": {},
   "outputs": [
    {
     "name": "stdout",
     "output_type": "stream",
     "text": [
      "Respectively, the [precision, recall, F-1 score] at 10 for our model are:\n",
      "[0.08375905229567676, 0.03835838932533997, 0.05261922121575363]\n"
     ]
    }
   ],
   "source": [
    "print(\"Respectively, the [precision, recall, F-1 score] at 10 for our model are:\")\n",
    "print(model_score_sg1)  ## congrats!! haha bylu! yating"
   ]
  },
  {
   "cell_type": "code",
   "execution_count": null,
   "metadata": {},
   "outputs": [],
   "source": []
  }
 ],
 "metadata": {
  "kernelspec": {
   "display_name": "Python 3",
   "language": "python",
   "name": "python3"
  },
  "language_info": {
   "codemirror_mode": {
    "name": "ipython",
    "version": 3
   },
   "file_extension": ".py",
   "mimetype": "text/x-python",
   "name": "python",
   "nbconvert_exporter": "python",
   "pygments_lexer": "ipython3",
   "version": "3.8.5"
  }
 },
 "nbformat": 4,
 "nbformat_minor": 4
}
